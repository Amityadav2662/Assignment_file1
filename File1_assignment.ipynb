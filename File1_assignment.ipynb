{
 "cells": [
  {
   "cell_type": "code",
   "execution_count": null,
   "id": "eb672d9b-40d0-43ba-9f0c-bfbb222bcbc9",
   "metadata": {},
   "outputs": [],
   "source": [
    "# Q1. What is in Exception in python? Write the difference between Exceptions and syntax errors\n",
    "Ans.\n",
    "An exception is an event that occurs during the execution of a program, which disrupts the normal flow of the program.\n",
    "It represents an error or an exceptional condition that needs to be handled.\n",
    "\n",
    "Difference between Exceptions and syntax errors\n",
    "Exceptions : Exceptions provide a mechanism for handling errors and exceptional situations in a controlled manner. By \n",
    "catching and handling exceptions, you can gracefully handle errors, display useful error messages, and take appropriate\n",
    "actions to recover from the error or terminate the program safely By using try and catch.\n",
    "\n",
    "Syntax Error : Syntax errors are different from exceptions. Syntax errors occur when the code violates the rules of\n",
    "the Python syntax. These errors are typically detected by the Python interpreter before the code is executed. Syntax errors\n",
    "indicate mistakes in the structure or grammar of the code, such as missing parentheses, incorrect indentation, or using an\n",
    "invalid keyword."
   ]
  },
  {
   "cell_type": "code",
   "execution_count": null,
   "id": "3fee3236-3ab3-4b37-99b3-6678d9954faf",
   "metadata": {},
   "outputs": [],
   "source": [
    "# Q2. What happens when an exception is not handled? Explain with an example.\n",
    "Ans.\n",
    "When an exception is not handled in Python, it results in an error message being displayed, and the program execution is halted.\n",
    "This error message includes information about the type of exception and the line of code where the exception occurred."
   ]
  },
  {
   "cell_type": "code",
   "execution_count": 1,
   "id": "b4e89b09-7b1f-457c-b3b2-2186201fcb65",
   "metadata": {},
   "outputs": [
    {
     "ename": "ZeroDivisionError",
     "evalue": "division by zero",
     "output_type": "error",
     "traceback": [
      "\u001b[0;31m---------------------------------------------------------------------------\u001b[0m",
      "\u001b[0;31mZeroDivisionError\u001b[0m                         Traceback (most recent call last)",
      "Cell \u001b[0;32mIn[1], line 5\u001b[0m\n\u001b[1;32m      2\u001b[0m \u001b[38;5;28;01mdef\u001b[39;00m \u001b[38;5;21mdivide\u001b[39m(a,b):\n\u001b[1;32m      3\u001b[0m     \u001b[38;5;28;01mreturn\u001b[39;00m a\u001b[38;5;241m/\u001b[39mb\n\u001b[0;32m----> 5\u001b[0m d \u001b[38;5;241m=\u001b[39m divide(\u001b[38;5;241;43m10\u001b[39;49m\u001b[38;5;241;43m/\u001b[39;49m\u001b[38;5;241;43m0\u001b[39;49m)\n\u001b[1;32m      6\u001b[0m \u001b[38;5;28mprint\u001b[39m(d)\n",
      "\u001b[0;31mZeroDivisionError\u001b[0m: division by zero"
     ]
    }
   ],
   "source": [
    "# Example\n",
    "def divide(a,b):\n",
    "    return a/b\n",
    "\n",
    "d = divide(10/0)\n",
    "print(d)"
   ]
  },
  {
   "cell_type": "code",
   "execution_count": null,
   "id": "08b4b2cc-16b7-4b6d-8958-e47f710833e5",
   "metadata": {},
   "outputs": [],
   "source": [
    "# Q3. which python statement are used to catch and handle exceptions? Explain with an example.\n",
    "Ans.\n",
    "The try-except statement is used to catch and handle exceptions. It allows you to write code that may potentially\n",
    "raise an exception and provides a mechanism to handle the exception gracefully."
   ]
  },
  {
   "cell_type": "code",
   "execution_count": 9,
   "id": "9919909e-a4b3-4115-907b-5bf521deab5e",
   "metadata": {},
   "outputs": [
    {
     "name": "stdout",
     "output_type": "stream",
     "text": [
      "Error: Division by Zero is not allowed\n",
      "Divison 5.0\n"
     ]
    }
   ],
   "source": [
    "# Example\n",
    "def divide(a,b):\n",
    "    try:\n",
    "        div = a/b\n",
    "        print(\"Divison\",div)\n",
    "        \n",
    "    except ZeroDivisionError:\n",
    "        print(\"Error: Division by Zero is not allowed\")\n",
    "\n",
    "divide(10,0)\n",
    "divide(10,2)"
   ]
  },
  {
   "cell_type": "code",
   "execution_count": null,
   "id": "8601ec00-c3a1-4b55-905c-d2a1b97d5c59",
   "metadata": {},
   "outputs": [],
   "source": [
    "# Q4. Explain with an example:\n",
    "Ans.\n",
    "a.Try and else :The try statement in Python is used to enclose a block of code that may raise an exception. The else block is\n",
    "optional and is executed only if no exceptions occur within the try block.\n",
    "\n",
    "b.Finally:The finally block is used in conjunction with the try-except statement and is executed regardless of whether an \n",
    "exception occurs or not.\n",
    "\n",
    "c.raise:The raise statement is used to explicitly raise an exception in Python. It allows you to signal that a specific \n",
    "exception has occurred at a particular point in your code."
   ]
  },
  {
   "cell_type": "code",
   "execution_count": 1,
   "id": "f977396d-5f7a-4c6f-864f-abb6cf04a858",
   "metadata": {},
   "outputs": [
    {
     "name": "stdout",
     "output_type": "stream",
     "text": [
      "Error: Division by Zero is not allowed\n",
      "Divison 5.0\n"
     ]
    }
   ],
   "source": [
    "# Try and else\n",
    "def divide(a,b):\n",
    "    try:\n",
    "        div = a/b\n",
    "        \n",
    "    except ZeroDivisionError:\n",
    "        print(\"Error: Division by Zero is not allowed\")\n",
    "        \n",
    "    else:\n",
    "        print(\"Divison\",div)\n",
    "\n",
    "divide(10,0)\n",
    "divide(10,2)"
   ]
  },
  {
   "cell_type": "code",
   "execution_count": 6,
   "id": "82c2a151-7e1a-45aa-803a-35bfd5227787",
   "metadata": {},
   "outputs": [
    {
     "name": "stdout",
     "output_type": "stream",
     "text": [
      "Error: Division by Zero is not allowed\n",
      "The finally executed\n",
      "Division 5.0\n",
      "The finally executed\n"
     ]
    }
   ],
   "source": [
    "# Finally\n",
    "def divide(a,b):\n",
    "    try:\n",
    "        div = a/b\n",
    "        print(\"Division\",div)\n",
    "        \n",
    "    except ZeroDivisionError:\n",
    "        print(\"Error: Division by Zero is not allowed\")\n",
    "        \n",
    "    finally:\n",
    "        print(\"The finally executed\")\n",
    "\n",
    "divide(10,0)\n",
    "divide(10,2)"
   ]
  },
  {
   "cell_type": "code",
   "execution_count": 13,
   "id": "60f8e847-3740-478d-85a5-4aff01e66b6c",
   "metadata": {},
   "outputs": [
    {
     "name": "stdout",
     "output_type": "stream",
     "text": [
      "Error: You must be 18 years or older.\n"
     ]
    }
   ],
   "source": [
    "# raise\n",
    "def check_age(age):\n",
    "    if age < 0:\n",
    "        raise ValueError(\"Age cannot be negative.\")\n",
    "    elif age < 18:\n",
    "        raise ValueError(\"You must be 18 years or older.\")\n",
    "\n",
    "try:\n",
    "    check_age(16)\n",
    "except ValueError as err:\n",
    "    print(\"Error:\", err)"
   ]
  },
  {
   "cell_type": "code",
   "execution_count": null,
   "id": "69d20187-842d-4393-b481-8d247dc6a169",
   "metadata": {},
   "outputs": [],
   "source": [
    "# Q5. What are Custom Exceptions in python? Why do we need Custom Exceptions? Explain with an example.\n",
    "Ans.\n",
    "Custom exceptions in Python are user-defined exception classes that allow you to create your own exception types\n",
    "specific to your application or domain.They are derived from the base Exception class or any of its subclasses.\n",
    "\n",
    "Need of Custom Exceptions.\n",
    "We need custom exceptions in Python to handle specific error conditions that are not adequately represented by the\n",
    "built-in exception types. By creating custom exceptions, we can provide more meaningful error messages."
   ]
  },
  {
   "cell_type": "code",
   "execution_count": 22,
   "id": "58cce723-72c2-4259-b066-98f11b585d0f",
   "metadata": {},
   "outputs": [
    {
     "name": "stdout",
     "output_type": "stream",
     "text": [
      "WithdrawalError : Insufficient balance The amount is 2000 and the balance is 1500\n"
     ]
    }
   ],
   "source": [
    "# Example\n",
    "class WithdrawalError(Exception):\n",
    "    def __init__(self,amount,balance):\n",
    "        self.amount = amount\n",
    "        self.balance = balance\n",
    "    \n",
    "    def __str__(self):\n",
    "        return \"WithdrawalError : Insufficient balance The amount is {} and the balance is {}\".format(self.amount,self.balance)\n",
    "    \n",
    "def withdrawal_perform(amount,balance):\n",
    "    try:\n",
    "        if amount > balance:\n",
    "            raise WithdrawalError(amount,balance)\n",
    "    except WithdrawalError as err:\n",
    "        print(err)\n",
    "    \n",
    "    else:\n",
    "        print(\"Withdrawal succesfull\")\n",
    "        \n",
    "balance = 1500\n",
    "amount_withdrawal = 2000\n",
    "withdrawal_perform(amount_withdrawal,balance)"
   ]
  },
  {
   "cell_type": "code",
   "execution_count": 26,
   "id": "79a85ebf-43dd-4708-8f60-05babe8b2f95",
   "metadata": {},
   "outputs": [
    {
     "name": "stdout",
     "output_type": "stream",
     "text": [
      "InvalidEmailError: This email is not valid AmitYadav1410gmail.com\n"
     ]
    }
   ],
   "source": [
    "# Q6. Create a custom exception class. Use this class to handle this exception.\n",
    "class InvalidEmailError(Exception):\n",
    "    def __init__(self,email):\n",
    "        self.email = email\n",
    "        \n",
    "    def __str__(self):\n",
    "        return \"InvalidEmailError: This email is not valid {}\".format(self.email)\n",
    "def ValidateEmail(email):\n",
    "    try:\n",
    "        if '@' not in email:\n",
    "            raise InvalidEmailError(email)\n",
    "    except InvalidEmailError as err:\n",
    "        print(err)\n",
    "    \n",
    "    else:\n",
    "        print(\"This email is valid\")\n",
    "        \n",
    "email = \"AmitYadav1410gmail.com\"\n",
    "ValidateEmail(email)"
   ]
  },
  {
   "cell_type": "code",
   "execution_count": null,
   "id": "33a4a20a-84fd-49a9-b38d-a3fd11740bc4",
   "metadata": {},
   "outputs": [],
   "source": []
  }
 ],
 "metadata": {
  "kernelspec": {
   "display_name": "Python 3 (ipykernel)",
   "language": "python",
   "name": "python3"
  },
  "language_info": {
   "codemirror_mode": {
    "name": "ipython",
    "version": 3
   },
   "file_extension": ".py",
   "mimetype": "text/x-python",
   "name": "python",
   "nbconvert_exporter": "python",
   "pygments_lexer": "ipython3",
   "version": "3.10.8"
  }
 },
 "nbformat": 4,
 "nbformat_minor": 5
}
